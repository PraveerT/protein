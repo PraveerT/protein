{
  "nbformat": 4,
  "nbformat_minor": 0,
  "metadata": {
    "colab": {
      "provenance": [],
      "gpuType": "T4"
    },
    "kernelspec": {
      "name": "python3",
      "display_name": "Python 3"
    },
    "language_info": {
      "name": "python"
    },
    "accelerator": "GPU"
  },
  "cells": [
    {
      "cell_type": "code",
      "source": [
        "!pip install torch_geometric\n",
        "\n",
        "# Optional dependencies:\n",
        "!pip install pyg_lib torch_scatter torch_sparse torch_cluster torch_spline_conv -f https://data.pyg.org/whl/torch-2.1.0+cu121.html"
      ],
      "metadata": {
        "colab": {
          "base_uri": "https://localhost:8080/"
        },
        "id": "aKPmJ1dvDwuC",
        "outputId": "15e682a8-7028-4232-89e9-85ac30b18eb9"
      },
      "execution_count": null,
      "outputs": [
        {
          "output_type": "stream",
          "name": "stdout",
          "text": [
            "Collecting torch_geometric\n",
            "  Downloading torch_geometric-2.6.1-py3-none-any.whl.metadata (63 kB)\n",
            "\u001b[?25l     \u001b[90m━━━━━━━━━━━━━━━━━━━━━━━━━━━━━━━━━━━━━━━━\u001b[0m \u001b[32m0.0/63.1 kB\u001b[0m \u001b[31m?\u001b[0m eta \u001b[36m-:--:--\u001b[0m\r\u001b[2K     \u001b[90m━━━━━━━━━━━━━━━━━━━━━━━━━━━━━━━━━━━━━━━━\u001b[0m \u001b[32m63.1/63.1 kB\u001b[0m \u001b[31m3.2 MB/s\u001b[0m eta \u001b[36m0:00:00\u001b[0m\n",
            "\u001b[?25hRequirement already satisfied: aiohttp in /usr/local/lib/python3.12/dist-packages (from torch_geometric) (3.12.15)\n",
            "Requirement already satisfied: fsspec in /usr/local/lib/python3.12/dist-packages (from torch_geometric) (2025.3.0)\n",
            "Requirement already satisfied: jinja2 in /usr/local/lib/python3.12/dist-packages (from torch_geometric) (3.1.6)\n",
            "Requirement already satisfied: numpy in /usr/local/lib/python3.12/dist-packages (from torch_geometric) (2.0.2)\n",
            "Requirement already satisfied: psutil>=5.8.0 in /usr/local/lib/python3.12/dist-packages (from torch_geometric) (5.9.5)\n",
            "Requirement already satisfied: pyparsing in /usr/local/lib/python3.12/dist-packages (from torch_geometric) (3.2.3)\n",
            "Requirement already satisfied: requests in /usr/local/lib/python3.12/dist-packages (from torch_geometric) (2.32.4)\n",
            "Requirement already satisfied: tqdm in /usr/local/lib/python3.12/dist-packages (from torch_geometric) (4.67.1)\n",
            "Requirement already satisfied: aiohappyeyeballs>=2.5.0 in /usr/local/lib/python3.12/dist-packages (from aiohttp->torch_geometric) (2.6.1)\n",
            "Requirement already satisfied: aiosignal>=1.4.0 in /usr/local/lib/python3.12/dist-packages (from aiohttp->torch_geometric) (1.4.0)\n",
            "Requirement already satisfied: attrs>=17.3.0 in /usr/local/lib/python3.12/dist-packages (from aiohttp->torch_geometric) (25.3.0)\n",
            "Requirement already satisfied: frozenlist>=1.1.1 in /usr/local/lib/python3.12/dist-packages (from aiohttp->torch_geometric) (1.7.0)\n",
            "Requirement already satisfied: multidict<7.0,>=4.5 in /usr/local/lib/python3.12/dist-packages (from aiohttp->torch_geometric) (6.6.4)\n",
            "Requirement already satisfied: propcache>=0.2.0 in /usr/local/lib/python3.12/dist-packages (from aiohttp->torch_geometric) (0.3.2)\n",
            "Requirement already satisfied: yarl<2.0,>=1.17.0 in /usr/local/lib/python3.12/dist-packages (from aiohttp->torch_geometric) (1.20.1)\n",
            "Requirement already satisfied: MarkupSafe>=2.0 in /usr/local/lib/python3.12/dist-packages (from jinja2->torch_geometric) (3.0.2)\n",
            "Requirement already satisfied: charset_normalizer<4,>=2 in /usr/local/lib/python3.12/dist-packages (from requests->torch_geometric) (3.4.3)\n",
            "Requirement already satisfied: idna<4,>=2.5 in /usr/local/lib/python3.12/dist-packages (from requests->torch_geometric) (3.10)\n",
            "Requirement already satisfied: urllib3<3,>=1.21.1 in /usr/local/lib/python3.12/dist-packages (from requests->torch_geometric) (2.5.0)\n",
            "Requirement already satisfied: certifi>=2017.4.17 in /usr/local/lib/python3.12/dist-packages (from requests->torch_geometric) (2025.8.3)\n",
            "Requirement already satisfied: typing-extensions>=4.2 in /usr/local/lib/python3.12/dist-packages (from aiosignal>=1.4.0->aiohttp->torch_geometric) (4.15.0)\n",
            "Downloading torch_geometric-2.6.1-py3-none-any.whl (1.1 MB)\n",
            "\u001b[2K   \u001b[90m━━━━━━━━━━━━━━━━━━━━━━━━━━━━━━━━━━━━━━━━\u001b[0m \u001b[32m1.1/1.1 MB\u001b[0m \u001b[31m33.2 MB/s\u001b[0m eta \u001b[36m0:00:00\u001b[0m\n",
            "\u001b[?25hInstalling collected packages: torch_geometric\n",
            "Successfully installed torch_geometric-2.6.1\n",
            "Looking in links: https://data.pyg.org/whl/torch-2.1.0+cu121.html\n",
            "\u001b[31mERROR: Could not find a version that satisfies the requirement pyg_lib (from versions: none)\u001b[0m\u001b[31m\n",
            "\u001b[0m\u001b[31mERROR: No matching distribution found for pyg_lib\u001b[0m\u001b[31m\n",
            "\u001b[0m"
          ]
        }
      ]
    },
    {
      "cell_type": "code",
      "source": [
        "!pip install git+https://github.com/leonardodalinky/pytorch_fpsample\n",
        "!pip install ."
      ],
      "metadata": {
        "colab": {
          "base_uri": "https://localhost:8080/"
        },
        "id": "frD5RqdUCaWd",
        "outputId": "cb65ecc8-1457-4ffb-8ba6-8e61e8d6eed3"
      },
      "execution_count": null,
      "outputs": [
        {
          "output_type": "stream",
          "name": "stdout",
          "text": [
            "Collecting git+https://github.com/leonardodalinky/pytorch_fpsample\n",
            "  Cloning https://github.com/leonardodalinky/pytorch_fpsample to /tmp/pip-req-build-a_ebqkww\n",
            "  Running command git clone --filter=blob:none --quiet https://github.com/leonardodalinky/pytorch_fpsample /tmp/pip-req-build-a_ebqkww\n",
            "  Resolved https://github.com/leonardodalinky/pytorch_fpsample to commit 7bb2fda82d4f726c5c8dcaaa5bcd8f6d2546cea9\n",
            "  Preparing metadata (setup.py) ... \u001b[?25l\u001b[?25hdone\n",
            "Requirement already satisfied: torch>=2.0 in /usr/local/lib/python3.12/dist-packages (from torch_fpsample==0.1.0) (2.8.0+cu126)\n",
            "Requirement already satisfied: filelock in /usr/local/lib/python3.12/dist-packages (from torch>=2.0->torch_fpsample==0.1.0) (3.19.1)\n",
            "Requirement already satisfied: typing-extensions>=4.10.0 in /usr/local/lib/python3.12/dist-packages (from torch>=2.0->torch_fpsample==0.1.0) (4.15.0)\n",
            "Requirement already satisfied: setuptools in /usr/local/lib/python3.12/dist-packages (from torch>=2.0->torch_fpsample==0.1.0) (75.2.0)\n",
            "Requirement already satisfied: sympy>=1.13.3 in /usr/local/lib/python3.12/dist-packages (from torch>=2.0->torch_fpsample==0.1.0) (1.13.3)\n",
            "Requirement already satisfied: networkx in /usr/local/lib/python3.12/dist-packages (from torch>=2.0->torch_fpsample==0.1.0) (3.5)\n",
            "Requirement already satisfied: jinja2 in /usr/local/lib/python3.12/dist-packages (from torch>=2.0->torch_fpsample==0.1.0) (3.1.6)\n",
            "Requirement already satisfied: fsspec in /usr/local/lib/python3.12/dist-packages (from torch>=2.0->torch_fpsample==0.1.0) (2025.3.0)\n",
            "Requirement already satisfied: nvidia-cuda-nvrtc-cu12==12.6.77 in /usr/local/lib/python3.12/dist-packages (from torch>=2.0->torch_fpsample==0.1.0) (12.6.77)\n",
            "Requirement already satisfied: nvidia-cuda-runtime-cu12==12.6.77 in /usr/local/lib/python3.12/dist-packages (from torch>=2.0->torch_fpsample==0.1.0) (12.6.77)\n",
            "Requirement already satisfied: nvidia-cuda-cupti-cu12==12.6.80 in /usr/local/lib/python3.12/dist-packages (from torch>=2.0->torch_fpsample==0.1.0) (12.6.80)\n",
            "Requirement already satisfied: nvidia-cudnn-cu12==9.10.2.21 in /usr/local/lib/python3.12/dist-packages (from torch>=2.0->torch_fpsample==0.1.0) (9.10.2.21)\n",
            "Requirement already satisfied: nvidia-cublas-cu12==12.6.4.1 in /usr/local/lib/python3.12/dist-packages (from torch>=2.0->torch_fpsample==0.1.0) (12.6.4.1)\n",
            "Requirement already satisfied: nvidia-cufft-cu12==11.3.0.4 in /usr/local/lib/python3.12/dist-packages (from torch>=2.0->torch_fpsample==0.1.0) (11.3.0.4)\n",
            "Requirement already satisfied: nvidia-curand-cu12==10.3.7.77 in /usr/local/lib/python3.12/dist-packages (from torch>=2.0->torch_fpsample==0.1.0) (10.3.7.77)\n",
            "Requirement already satisfied: nvidia-cusolver-cu12==11.7.1.2 in /usr/local/lib/python3.12/dist-packages (from torch>=2.0->torch_fpsample==0.1.0) (11.7.1.2)\n",
            "Requirement already satisfied: nvidia-cusparse-cu12==12.5.4.2 in /usr/local/lib/python3.12/dist-packages (from torch>=2.0->torch_fpsample==0.1.0) (12.5.4.2)\n",
            "Requirement already satisfied: nvidia-cusparselt-cu12==0.7.1 in /usr/local/lib/python3.12/dist-packages (from torch>=2.0->torch_fpsample==0.1.0) (0.7.1)\n",
            "Requirement already satisfied: nvidia-nccl-cu12==2.27.3 in /usr/local/lib/python3.12/dist-packages (from torch>=2.0->torch_fpsample==0.1.0) (2.27.3)\n",
            "Requirement already satisfied: nvidia-nvtx-cu12==12.6.77 in /usr/local/lib/python3.12/dist-packages (from torch>=2.0->torch_fpsample==0.1.0) (12.6.77)\n",
            "Requirement already satisfied: nvidia-nvjitlink-cu12==12.6.85 in /usr/local/lib/python3.12/dist-packages (from torch>=2.0->torch_fpsample==0.1.0) (12.6.85)\n",
            "Requirement already satisfied: nvidia-cufile-cu12==1.11.1.6 in /usr/local/lib/python3.12/dist-packages (from torch>=2.0->torch_fpsample==0.1.0) (1.11.1.6)\n",
            "Requirement already satisfied: triton==3.4.0 in /usr/local/lib/python3.12/dist-packages (from torch>=2.0->torch_fpsample==0.1.0) (3.4.0)\n",
            "Requirement already satisfied: mpmath<1.4,>=1.1.0 in /usr/local/lib/python3.12/dist-packages (from sympy>=1.13.3->torch>=2.0->torch_fpsample==0.1.0) (1.3.0)\n",
            "Requirement already satisfied: MarkupSafe>=2.0 in /usr/local/lib/python3.12/dist-packages (from jinja2->torch>=2.0->torch_fpsample==0.1.0) (3.0.2)\n",
            "Building wheels for collected packages: torch_fpsample\n",
            "  Building wheel for torch_fpsample (setup.py) ... \u001b[?25l\u001b[?25hdone\n",
            "  Created wheel for torch_fpsample: filename=torch_fpsample-0.1.0-cp312-cp312-linux_x86_64.whl size=11623242 sha256=5174c60d2edb08dd6402c40652c73b6fe8a04305b6cdcffa5f5870da3c76d224\n",
            "  Stored in directory: /tmp/pip-ephem-wheel-cache-49mshdz0/wheels/ec/d0/23/0f053a8d3d881003b5f0f4e80f0e7defa0f545b4ecd5516a38\n",
            "Successfully built torch_fpsample\n",
            "Installing collected packages: torch_fpsample\n",
            "Successfully installed torch_fpsample-0.1.0\n",
            "\u001b[31mERROR: Directory '.' is not installable. Neither 'setup.py' nor 'pyproject.toml' found.\u001b[0m\u001b[31m\n",
            "\u001b[0m"
          ]
        }
      ]
    },
    {
      "cell_type": "code",
      "source": [
        "!pip install proteinshake"
      ],
      "metadata": {
        "colab": {
          "base_uri": "https://localhost:8080/"
        },
        "id": "cWKeonSac4ek",
        "outputId": "00f3d4b7-be58-4664-9a0c-e187db70827e"
      },
      "execution_count": null,
      "outputs": [
        {
          "output_type": "stream",
          "name": "stdout",
          "text": [
            "Collecting proteinshake\n",
            "  Downloading proteinshake-0.3.16-py3-none-any.whl.metadata (4.7 kB)\n",
            "Collecting biopandas>=0.4.1 (from proteinshake)\n",
            "  Downloading biopandas-0.5.1-py3-none-any.whl.metadata (1.6 kB)\n",
            "Requirement already satisfied: pandas>=1.4.3 in /usr/local/lib/python3.12/dist-packages (from proteinshake) (2.2.2)\n",
            "Collecting rdkit>=2024.9.6 (from proteinshake)\n",
            "  Downloading rdkit-2025.3.6-cp312-cp312-manylinux_2_28_x86_64.whl.metadata (4.1 kB)\n",
            "Requirement already satisfied: tqdm>=4.64.0 in /usr/local/lib/python3.12/dist-packages (from proteinshake) (4.67.1)\n",
            "Requirement already satisfied: scikit-learn>=1.1.1 in /usr/local/lib/python3.12/dist-packages (from proteinshake) (1.6.1)\n",
            "Requirement already satisfied: joblib>=1.2.0 in /usr/local/lib/python3.12/dist-packages (from proteinshake) (1.5.2)\n",
            "Requirement already satisfied: requests>=2.27.1 in /usr/local/lib/python3.12/dist-packages (from proteinshake) (2.32.4)\n",
            "Collecting fastavro>=1.6.1 (from proteinshake)\n",
            "  Downloading fastavro-1.12.0-cp312-cp312-manylinux2014_x86_64.manylinux_2_17_x86_64.manylinux_2_28_x86_64.whl.metadata (5.7 kB)\n",
            "Collecting freesasa>=2.2.0.post3 (from proteinshake)\n",
            "  Downloading freesasa-2.2.1.tar.gz (270 kB)\n",
            "\u001b[2K     \u001b[90m━━━━━━━━━━━━━━━━━━━━━━━━━━━━━━━━━━━━━━━\u001b[0m \u001b[32m270.1/270.1 kB\u001b[0m \u001b[31m7.7 MB/s\u001b[0m eta \u001b[36m0:00:00\u001b[0m\n",
            "\u001b[?25h  Preparing metadata (setup.py) ... \u001b[?25l\u001b[?25hdone\n",
            "Collecting goatools>=1.3.1 (from proteinshake)\n",
            "  Downloading goatools-1.5.2-py3-none-any.whl.metadata (14 kB)\n",
            "Requirement already satisfied: numpy>=1.16.2 in /usr/local/lib/python3.12/dist-packages (from biopandas>=0.4.1->proteinshake) (2.0.2)\n",
            "Collecting mmtf-python==1.1.3 (from biopandas>=0.4.1->proteinshake)\n",
            "  Downloading mmtf_python-1.1.3-py2.py3-none-any.whl.metadata (1.2 kB)\n",
            "Collecting looseversion==1.1.2 (from biopandas>=0.4.1->proteinshake)\n",
            "  Downloading looseversion-1.1.2-py3-none-any.whl.metadata (4.6 kB)\n",
            "Requirement already satisfied: setuptools in /usr/local/lib/python3.12/dist-packages (from biopandas>=0.4.1->proteinshake) (75.2.0)\n",
            "Requirement already satisfied: msgpack>=1.0.0 in /usr/local/lib/python3.12/dist-packages (from mmtf-python==1.1.3->biopandas>=0.4.1->proteinshake) (1.1.1)\n",
            "Collecting docopt-ng (from goatools>=1.3.1->proteinshake)\n",
            "  Downloading docopt_ng-0.9.0-py3-none-any.whl.metadata (13 kB)\n",
            "Collecting ftpretty (from goatools>=1.3.1->proteinshake)\n",
            "  Downloading ftpretty-0.4.0-py2.py3-none-any.whl.metadata (6.6 kB)\n",
            "Requirement already satisfied: openpyxl in /usr/local/lib/python3.12/dist-packages (from goatools>=1.3.1->proteinshake) (3.1.5)\n",
            "Requirement already satisfied: pydot in /usr/local/lib/python3.12/dist-packages (from goatools>=1.3.1->proteinshake) (3.0.4)\n",
            "Requirement already satisfied: rich in /usr/local/lib/python3.12/dist-packages (from goatools>=1.3.1->proteinshake) (13.9.4)\n",
            "Requirement already satisfied: scipy in /usr/local/lib/python3.12/dist-packages (from goatools>=1.3.1->proteinshake) (1.16.1)\n",
            "Requirement already satisfied: statsmodels in /usr/local/lib/python3.12/dist-packages (from goatools>=1.3.1->proteinshake) (0.14.5)\n",
            "Collecting xlsxwriter (from goatools>=1.3.1->proteinshake)\n",
            "  Downloading xlsxwriter-3.2.9-py3-none-any.whl.metadata (2.7 kB)\n",
            "Requirement already satisfied: python-dateutil>=2.8.2 in /usr/local/lib/python3.12/dist-packages (from pandas>=1.4.3->proteinshake) (2.9.0.post0)\n",
            "Requirement already satisfied: pytz>=2020.1 in /usr/local/lib/python3.12/dist-packages (from pandas>=1.4.3->proteinshake) (2025.2)\n",
            "Requirement already satisfied: tzdata>=2022.7 in /usr/local/lib/python3.12/dist-packages (from pandas>=1.4.3->proteinshake) (2025.2)\n",
            "Requirement already satisfied: Pillow in /usr/local/lib/python3.12/dist-packages (from rdkit>=2024.9.6->proteinshake) (11.3.0)\n",
            "Requirement already satisfied: charset_normalizer<4,>=2 in /usr/local/lib/python3.12/dist-packages (from requests>=2.27.1->proteinshake) (3.4.3)\n",
            "Requirement already satisfied: idna<4,>=2.5 in /usr/local/lib/python3.12/dist-packages (from requests>=2.27.1->proteinshake) (3.10)\n",
            "Requirement already satisfied: urllib3<3,>=1.21.1 in /usr/local/lib/python3.12/dist-packages (from requests>=2.27.1->proteinshake) (2.5.0)\n",
            "Requirement already satisfied: certifi>=2017.4.17 in /usr/local/lib/python3.12/dist-packages (from requests>=2.27.1->proteinshake) (2025.8.3)\n",
            "Requirement already satisfied: threadpoolctl>=3.1.0 in /usr/local/lib/python3.12/dist-packages (from scikit-learn>=1.1.1->proteinshake) (3.6.0)\n",
            "Requirement already satisfied: six>=1.5 in /usr/local/lib/python3.12/dist-packages (from python-dateutil>=2.8.2->pandas>=1.4.3->proteinshake) (1.17.0)\n",
            "Requirement already satisfied: et-xmlfile in /usr/local/lib/python3.12/dist-packages (from openpyxl->goatools>=1.3.1->proteinshake) (2.0.0)\n",
            "Requirement already satisfied: pyparsing>=3.0.9 in /usr/local/lib/python3.12/dist-packages (from pydot->goatools>=1.3.1->proteinshake) (3.2.3)\n",
            "Requirement already satisfied: markdown-it-py>=2.2.0 in /usr/local/lib/python3.12/dist-packages (from rich->goatools>=1.3.1->proteinshake) (4.0.0)\n",
            "Requirement already satisfied: pygments<3.0.0,>=2.13.0 in /usr/local/lib/python3.12/dist-packages (from rich->goatools>=1.3.1->proteinshake) (2.19.2)\n",
            "Requirement already satisfied: patsy>=0.5.6 in /usr/local/lib/python3.12/dist-packages (from statsmodels->goatools>=1.3.1->proteinshake) (1.0.1)\n",
            "Requirement already satisfied: packaging>=21.3 in /usr/local/lib/python3.12/dist-packages (from statsmodels->goatools>=1.3.1->proteinshake) (25.0)\n",
            "Requirement already satisfied: mdurl~=0.1 in /usr/local/lib/python3.12/dist-packages (from markdown-it-py>=2.2.0->rich->goatools>=1.3.1->proteinshake) (0.1.2)\n",
            "Downloading proteinshake-0.3.16-py3-none-any.whl (69 kB)\n",
            "\u001b[2K   \u001b[90m━━━━━━━━━━━━━━━━━━━━━━━━━━━━━━━━━━━━━━━━\u001b[0m \u001b[32m69.9/69.9 kB\u001b[0m \u001b[31m4.0 MB/s\u001b[0m eta \u001b[36m0:00:00\u001b[0m\n",
            "\u001b[?25hDownloading biopandas-0.5.1-py3-none-any.whl (68 kB)\n",
            "\u001b[2K   \u001b[90m━━━━━━━━━━━━━━━━━━━━━━━━━━━━━━━━━━━━━━━━\u001b[0m \u001b[32m68.3/68.3 kB\u001b[0m \u001b[31m6.8 MB/s\u001b[0m eta \u001b[36m0:00:00\u001b[0m\n",
            "\u001b[?25hDownloading looseversion-1.1.2-py3-none-any.whl (8.1 kB)\n",
            "Downloading mmtf_python-1.1.3-py2.py3-none-any.whl (25 kB)\n",
            "Downloading fastavro-1.12.0-cp312-cp312-manylinux2014_x86_64.manylinux_2_17_x86_64.manylinux_2_28_x86_64.whl (3.5 MB)\n",
            "\u001b[2K   \u001b[90m━━━━━━━━━━━━━━━━━━━━━━━━━━━━━━━━━━━━━━━━\u001b[0m \u001b[32m3.5/3.5 MB\u001b[0m \u001b[31m47.7 MB/s\u001b[0m eta \u001b[36m0:00:00\u001b[0m\n",
            "\u001b[?25hDownloading goatools-1.5.2-py3-none-any.whl (15.8 MB)\n",
            "\u001b[2K   \u001b[90m━━━━━━━━━━━━━━━━━━━━━━━━━━━━━━━━━━━━━━━━\u001b[0m \u001b[32m15.8/15.8 MB\u001b[0m \u001b[31m48.3 MB/s\u001b[0m eta \u001b[36m0:00:00\u001b[0m\n",
            "\u001b[?25hDownloading rdkit-2025.3.6-cp312-cp312-manylinux_2_28_x86_64.whl (36.1 MB)\n",
            "\u001b[2K   \u001b[90m━━━━━━━━━━━━━━━━━━━━━━━━━━━━━━━━━━━━━━━━\u001b[0m \u001b[32m36.1/36.1 MB\u001b[0m \u001b[31m14.8 MB/s\u001b[0m eta \u001b[36m0:00:00\u001b[0m\n",
            "\u001b[?25hDownloading docopt_ng-0.9.0-py3-none-any.whl (16 kB)\n",
            "Downloading ftpretty-0.4.0-py2.py3-none-any.whl (8.2 kB)\n",
            "Downloading xlsxwriter-3.2.9-py3-none-any.whl (175 kB)\n",
            "\u001b[2K   \u001b[90m━━━━━━━━━━━━━━━━━━━━━━━━━━━━━━━━━━━━━━━━\u001b[0m \u001b[32m175.3/175.3 kB\u001b[0m \u001b[31m18.0 MB/s\u001b[0m eta \u001b[36m0:00:00\u001b[0m\n",
            "\u001b[?25hBuilding wheels for collected packages: freesasa\n",
            "  Building wheel for freesasa (setup.py) ... \u001b[?25l\u001b[?25hdone\n",
            "  Created wheel for freesasa: filename=freesasa-2.2.1-cp312-cp312-linux_x86_64.whl size=951900 sha256=1a0480e6a88bd6c40ebefe8131861636e596b6ac61dc5e3e8ff88d71ab741515\n",
            "  Stored in directory: /root/.cache/pip/wheels/d5/ba/ad/c7be874883ac321912d0442a2e8ff4208d0c3bf3bf94952387\n",
            "Successfully built freesasa\n",
            "Installing collected packages: freesasa, xlsxwriter, rdkit, mmtf-python, looseversion, fastavro, docopt-ng, ftpretty, biopandas, goatools, proteinshake\n",
            "Successfully installed biopandas-0.5.1 docopt-ng-0.9.0 fastavro-1.12.0 freesasa-2.2.1 ftpretty-0.4.0 goatools-1.5.2 looseversion-1.1.2 mmtf-python-1.1.3 proteinshake-0.3.16 rdkit-2025.3.6 xlsxwriter-3.2.9\n"
          ]
        }
      ]
    },
    {
      "cell_type": "code",
      "source": [
        "import torch\n",
        "import torch.nn.functional as F\n",
        "from torch_geometric.data import Data\n",
        "from torch_geometric.loader import DataLoader\n",
        "from proteinshake.tasks import EnzymeClassTask\n",
        "import torch_fpsample\n",
        "import h5py\n",
        "import tqdm\n",
        "\n",
        "task = EnzymeClassTask().to_point().torch()"
      ],
      "metadata": {
        "id": "SsX7kwR-D7FC",
        "colab": {
          "base_uri": "https://localhost:8080/"
        },
        "outputId": "4113d463-155e-4d60-b05a-204a09fbffdb"
      },
      "execution_count": null,
      "outputs": [
        {
          "output_type": "stream",
          "name": "stdout",
          "text": [
            "Downloading EnzymeCommissionDataset.residue.avro.gz\n"
          ]
        },
        {
          "output_type": "stream",
          "name": "stderr",
          "text": [
            "100%|██████████| 9.00k/9.00k [00:05<00:00, 18.3MiB/s]\n"
          ]
        },
        {
          "output_type": "stream",
          "name": "stdout",
          "text": [
            "Unzipping...\n"
          ]
        },
        {
          "output_type": "stream",
          "name": "stderr",
          "text": [
            "Converting: 100%|██████████| 15603/15603 [00:19<00:00, 803.23it/s]\n"
          ]
        }
      ]
    },
    {
      "cell_type": "code",
      "execution_count": null,
      "metadata": {
        "id": "8GKR0VKWbwQB"
      },
      "outputs": [],
      "source": [
        "class PointCloudTransformFPS:\n",
        "    def __init__(self, max_points=1024):\n",
        "        self.max_points = max_points\n",
        "\n",
        "    def __call__(self, data_tuple):\n",
        "        numerical_data, metadata_dict = data_tuple\n",
        "        coords = numerical_data[:, :3].detach().clone().float()\n",
        "        labels = numerical_data[:, 3].detach().clone().long()\n",
        "\n",
        "        num_points_original = coords.shape[0]\n",
        "\n",
        "        if num_points_original > self.max_points:\n",
        "            # Farthest Point Sampling\n",
        "            _, indices = torch_fpsample.sample(coords.unsqueeze(0), self.max_points)\n",
        "            indices = indices.squeeze(0).long()\n",
        "            sampled_coords = coords[indices]\n",
        "            sampled_labels = labels[indices]\n",
        "        else:\n",
        "            padding_needed = self.max_points - num_points_original\n",
        "            sampled_coords = F.pad(coords, (0, 0, 0, padding_needed), \"constant\", 0)\n",
        "            sampled_labels = F.pad(labels, (0, padding_needed), \"constant\", 20)\n",
        "\n",
        "        # Create mask for padding points\n",
        "        num_real_points = min(num_points_original, self.max_points)\n",
        "        mask = torch.zeros(self.max_points, dtype=torch.bool)\n",
        "        mask[:num_real_points] = True\n",
        "\n",
        "\n",
        "        ec_string = metadata_dict['protein']['EC']\n",
        "        ec_class = int(ec_string[0]) if ec_string[0].isdigit() else 0\n",
        "        ec_class = ec_class - 1\n",
        "\n",
        "        return Data(\n",
        "            pos=sampled_coords,\n",
        "            x=sampled_labels,\n",
        "            mask=mask,\n",
        "            y=torch.tensor([ec_class], dtype=torch.long) # Nhãn EC đã xử lý\n",
        "        )"
      ]
    },
    {
      "cell_type": "code",
      "source": [
        "class ProteinDataset(torch.utils.data.Dataset):\n",
        "    def __init__(self, original_dataset, transform):\n",
        "        self.original_dataset = original_dataset\n",
        "        self.transform = transform\n",
        "    def __len__(self):\n",
        "        return len(self.original_dataset)\n",
        "    def __getitem__(self, idx):\n",
        "        return self.transform(self.original_dataset[idx])"
      ],
      "metadata": {
        "id": "3tgYvjdGGm0I"
      },
      "execution_count": null,
      "outputs": []
    },
    {
      "cell_type": "code",
      "source": [
        "transform = PointCloudTransformFPS(max_points=512)\n",
        "train_dataset = ProteinDataset(task.train, transform)\n",
        "val_dataset = ProteinDataset(task.val, transform)\n",
        "test_dataset = ProteinDataset(task.test, transform)"
      ],
      "metadata": {
        "id": "WmTKFsv-Gtl5"
      },
      "execution_count": null,
      "outputs": []
    },
    {
      "cell_type": "code",
      "source": [
        "batch_size = 32\n",
        "train_loader = DataLoader(train_dataset, batch_size=batch_size, shuffle=True, num_workers=4)\n",
        "val_loader = DataLoader(val_dataset, batch_size=batch_size, shuffle=False, num_workers=4)\n",
        "test_loader = DataLoader(test_dataset, batch_size=batch_size, shuffle=False, num_workers=4)\n",
        "train_dataset[0]"
      ],
      "metadata": {
        "colab": {
          "base_uri": "https://localhost:8080/"
        },
        "id": "RceJLrSUH7cF",
        "outputId": "15f60b9b-9658-425f-82f2-7372c9729556"
      },
      "execution_count": null,
      "outputs": [
        {
          "output_type": "stream",
          "name": "stderr",
          "text": [
            "/usr/local/lib/python3.12/dist-packages/torch/utils/data/dataloader.py:627: UserWarning: This DataLoader will create 4 worker processes in total. Our suggested max number of worker in current system is 2, which is smaller than what this DataLoader is going to create. Please be aware that excessive worker creation might get DataLoader running slow or even freeze, lower the worker number to avoid potential slowness/freeze if necessary.\n",
            "  warnings.warn(\n"
          ]
        },
        {
          "output_type": "execute_result",
          "data": {
            "text/plain": [
              "Data(x=[512], y=[1], pos=[512, 3], mask=[512])"
            ]
          },
          "metadata": {},
          "execution_count": 8
        }
      ]
    },
    {
      "cell_type": "code",
      "source": [
        "import h5py\n",
        "import numpy as np\n",
        "\n",
        "def save_to_h5(dataset, filename):\n",
        "    with h5py.File(filename, \"w\") as f:\n",
        "        # Create datasets with variable size\n",
        "        coords_dset = f.create_dataset(\"coords\", (len(dataset), 512, 3), dtype=\"float32\")\n",
        "        labels_dset = f.create_dataset(\"labels\", (len(dataset), 512), dtype=\"int64\")\n",
        "        mask_dset   = f.create_dataset(\"mask\",   (len(dataset), 512), dtype=\"bool\")\n",
        "        targets_dset = f.create_dataset(\"targets\", (len(dataset),), dtype=\"int64\")\n",
        "\n",
        "        for i, data in enumerate(dataset):\n",
        "            coords_dset[i] = data.pos.numpy()\n",
        "            labels_dset[i] = data.x.numpy()\n",
        "            mask_dset[i]   = data.mask.numpy()\n",
        "            targets_dset[i] = data.y.item()\n",
        "\n",
        "    print(f\"Saved {len(dataset)} samples to {filename}\")\n",
        "\n",
        "save_to_h5(train_dataset, \"protein_train.h5\")\n",
        "save_to_h5(val_dataset, \"protein_val.h5\")\n",
        "save_to_h5(test_dataset, \"protein_test.h5\")"
      ],
      "metadata": {
        "colab": {
          "base_uri": "https://localhost:8080/"
        },
        "id": "0y03spz0UTMO",
        "outputId": "dfcf963a-5244-4609-bf8b-95078400d913"
      },
      "execution_count": null,
      "outputs": [
        {
          "output_type": "stream",
          "name": "stdout",
          "text": [
            "Saved 14042 samples to protein_train.h5\n",
            "Saved 780 samples to protein_val.h5\n",
            "Saved 781 samples to protein_test.h5\n"
          ]
        }
      ]
    }
  ]
}