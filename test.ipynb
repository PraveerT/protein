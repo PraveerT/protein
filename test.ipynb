{
 "cells": [
  {
   "cell_type": "code",
   "execution_count": 1,
   "metadata": {},
   "outputs": [
    {
     "name": "stderr",
     "output_type": "stream",
     "text": [
      "c:\\Users\\Admin\\anaconda3\\envs\\dfine\\Lib\\site-packages\\tqdm\\auto.py:21: TqdmWarning: IProgress not found. Please update jupyter and ipywidgets. See https://ipywidgets.readthedocs.io/en/stable/user_install.html\n",
      "  from .autonotebook import tqdm as notebook_tqdm\n"
     ]
    }
   ],
   "source": [
    "from voxel_model import VoxelEnzymeModel\n",
    "from proteinshake.tasks import EnzymeClassTask"
   ]
  },
  {
   "cell_type": "code",
   "execution_count": 2,
   "metadata": {},
   "outputs": [],
   "source": [
    "task = EnzymeClassTask().to_voxel(voxelsize=10).torch()"
   ]
  },
  {
   "cell_type": "code",
   "execution_count": 3,
   "metadata": {},
   "outputs": [],
   "source": [
    "model = VoxelEnzymeModel(task)"
   ]
  },
  {
   "cell_type": "code",
   "execution_count": 4,
   "metadata": {},
   "outputs": [
    {
     "name": "stdout",
     "output_type": "stream",
     "text": [
      "Epoch 1: Loss = 1.9817\n",
      "Best model saved with loss 1.9817\n",
      "Evaluation at Epoch 1: {'precision': 0.012255350283519298, 'recall': 0.14285714285714285, 'accuracy': 0.08578745198463508}\n",
      "Epoch 2: Loss = 1.9428\n",
      "Best model saved with loss 1.9428\n",
      "Evaluation at Epoch 2: {'precision': 0.05414304005853302, 'recall': 0.14285714285714285, 'accuracy': 0.37900128040973113}\n",
      "Epoch 3: Loss = 1.9382\n",
      "Best model saved with loss 1.9382\n",
      "Evaluation at Epoch 3: {'precision': 0.04536308761660874, 'recall': 0.14285714285714285, 'accuracy': 0.3175416133162612}\n",
      "Epoch 4: Loss = 1.9349\n",
      "Best model saved with loss 1.9349\n",
      "Evaluation at Epoch 4: {'precision': 0.012255350283519298, 'recall': 0.14285714285714285, 'accuracy': 0.08578745198463508}\n",
      "Epoch 5: Loss = 1.9329\n",
      "Best model saved with loss 1.9329\n",
      "Evaluation at Epoch 5: {'precision': 0.05414304005853302, 'recall': 0.14285714285714285, 'accuracy': 0.37900128040973113}\n",
      "Epoch 6: Loss = 1.9302\n",
      "Best model saved with loss 1.9302\n",
      "Evaluation at Epoch 6: {'precision': 0.05414304005853302, 'recall': 0.14285714285714285, 'accuracy': 0.37900128040973113}\n",
      "Epoch 7: Loss = 1.9317\n",
      "Evaluation at Epoch 7: {'precision': 0.04536308761660874, 'recall': 0.14285714285714285, 'accuracy': 0.3175416133162612}\n",
      "Epoch 8: Loss = 1.9303\n",
      "Evaluation at Epoch 8: {'precision': 0.04536308761660874, 'recall': 0.14285714285714285, 'accuracy': 0.3175416133162612}\n",
      "Epoch 9: Loss = 1.9279\n",
      "Best model saved with loss 1.9279\n",
      "Evaluation at Epoch 9: {'precision': 0.04536308761660874, 'recall': 0.14285714285714285, 'accuracy': 0.3175416133162612}\n",
      "Epoch 10: Loss = 1.9322\n",
      "Evaluation at Epoch 10: {'precision': 0.05414304005853302, 'recall': 0.14285714285714285, 'accuracy': 0.37900128040973113}\n",
      "Epoch 11: Loss = 1.9275\n",
      "Best model saved with loss 1.9275\n",
      "Evaluation at Epoch 11: {'precision': 0.05414304005853302, 'recall': 0.14285714285714285, 'accuracy': 0.37900128040973113}\n",
      "Epoch 12: Loss = 1.9253\n",
      "Best model saved with loss 1.9253\n",
      "Evaluation at Epoch 12: {'precision': 0.00310956648984818, 'recall': 0.14285714285714285, 'accuracy': 0.02176696542893726}\n"
     ]
    },
    {
     "ename": "KeyboardInterrupt",
     "evalue": "",
     "output_type": "error",
     "traceback": [
      "\u001b[1;31m---------------------------------------------------------------------------\u001b[0m",
      "\u001b[1;31mKeyboardInterrupt\u001b[0m                         Traceback (most recent call last)",
      "Cell \u001b[1;32mIn[4], line 1\u001b[0m\n\u001b[1;32m----> 1\u001b[0m \u001b[43mmodel\u001b[49m\u001b[38;5;241;43m.\u001b[39;49m\u001b[43mtrain_step\u001b[49m\u001b[43m(\u001b[49m\u001b[43mtask\u001b[49m\u001b[38;5;241;43m.\u001b[39;49m\u001b[43mtrain\u001b[49m\u001b[43m,\u001b[49m\u001b[43m \u001b[49m\u001b[43mtask\u001b[49m\u001b[38;5;241;43m.\u001b[39;49m\u001b[43mtest\u001b[49m\u001b[43m,\u001b[49m\u001b[43m \u001b[49m\u001b[43mbatch_size\u001b[49m\u001b[38;5;241;43m=\u001b[39;49m\u001b[38;5;241;43m16\u001b[39;49m\u001b[43m,\u001b[49m\u001b[43m \u001b[49m\u001b[43mlr\u001b[49m\u001b[38;5;241;43m=\u001b[39;49m\u001b[38;5;241;43m1e-3\u001b[39;49m\u001b[43m,\u001b[49m\u001b[43m \u001b[49m\u001b[43mnum_epochs\u001b[49m\u001b[38;5;241;43m=\u001b[39;49m\u001b[38;5;241;43m20\u001b[39;49m\u001b[43m,\u001b[49m\u001b[43m \u001b[49m\u001b[43moptimizer\u001b[49m\u001b[38;5;241;43m=\u001b[39;49m\u001b[38;5;124;43m\"\u001b[39;49m\u001b[38;5;124;43mAdamW\u001b[39;49m\u001b[38;5;124;43m\"\u001b[39;49m\u001b[43m)\u001b[49m\n",
      "File \u001b[1;32mc:\\Users\\Admin\\Desktop\\Desktop\\protein\\voxel_model.py:80\u001b[0m, in \u001b[0;36mVoxelEnzymeModel.train_step\u001b[1;34m(self, train_dataset, test_dataset, batch_size, lr, num_epochs, optimizer, save_dir)\u001b[0m\n\u001b[0;32m     78\u001b[0m     loss\u001b[38;5;241m.\u001b[39mbackward()\n\u001b[0;32m     79\u001b[0m     optimizer\u001b[38;5;241m.\u001b[39mstep()\n\u001b[1;32m---> 80\u001b[0m     epoch_losses\u001b[38;5;241m.\u001b[39mappend(\u001b[43mloss\u001b[49m\u001b[38;5;241;43m.\u001b[39;49m\u001b[43mitem\u001b[49m\u001b[43m(\u001b[49m\u001b[43m)\u001b[49m)\n\u001b[0;32m     82\u001b[0m avg_loss \u001b[38;5;241m=\u001b[39m \u001b[38;5;28msum\u001b[39m(epoch_losses) \u001b[38;5;241m/\u001b[39m \u001b[38;5;28mlen\u001b[39m(epoch_losses)\n\u001b[0;32m     83\u001b[0m \u001b[38;5;28mprint\u001b[39m(\u001b[38;5;124mf\u001b[39m\u001b[38;5;124m\"\u001b[39m\u001b[38;5;124mEpoch \u001b[39m\u001b[38;5;132;01m{\u001b[39;00mepoch\u001b[38;5;241m+\u001b[39m\u001b[38;5;241m1\u001b[39m\u001b[38;5;132;01m}\u001b[39;00m\u001b[38;5;124m: Loss = \u001b[39m\u001b[38;5;132;01m{\u001b[39;00mavg_loss\u001b[38;5;132;01m:\u001b[39;00m\u001b[38;5;124m.4f\u001b[39m\u001b[38;5;132;01m}\u001b[39;00m\u001b[38;5;124m\"\u001b[39m)\n",
      "\u001b[1;31mKeyboardInterrupt\u001b[0m: "
     ]
    }
   ],
   "source": [
    "model.train_step(task.train, task.test, batch_size=16, lr=1e-3, num_epochs=20, optimizer=\"AdamW\")"
   ]
  }
 ],
 "metadata": {
  "kernelspec": {
   "display_name": "dfine",
   "language": "python",
   "name": "python3"
  },
  "language_info": {
   "codemirror_mode": {
    "name": "ipython",
    "version": 3
   },
   "file_extension": ".py",
   "mimetype": "text/x-python",
   "name": "python",
   "nbconvert_exporter": "python",
   "pygments_lexer": "ipython3",
   "version": "3.11.9"
  }
 },
 "nbformat": 4,
 "nbformat_minor": 2
}
